{
 "cells": [
  {
   "cell_type": "code",
   "execution_count": 1,
   "metadata": {},
   "outputs": [],
   "source": [
    "import pytesseract\n",
    "import matplotlib.pyplot as plt\n",
    "import cv2\n",
    "%matplotlib inline"
   ]
  },
  {
   "cell_type": "code",
   "execution_count": 7,
   "metadata": {},
   "outputs": [
    {
     "name": "stdout",
     "output_type": "stream",
     "text": [
      "0\n",
      "\n",
      "39\n",
      "\n",
      "31122020\n",
      "\n",
      "111306\n",
      "\n",
      "17\n",
      "\n",
      "32\n",
      "\n",
      "0\n",
      "\n",
      "400\n",
      "\n",
      "19\n",
      "\n"
     ]
    }
   ],
   "source": [
    "#To detect only Digits:\n",
    "image = cv2.imread(\"/Users/mariamtamer/Desktop/Dataset/image3.jpg\")\n",
    "rgb = cv2.cvtColor(image, cv2.COLOR_BGR2RGB)\n",
    "#options = \"outputbase digits\"\n",
    "\n",
    "#target = pytesseract.image_to_string(rgb, config=options)\n",
    "target = pytesseract.image_to_string(rgb, lang='eng',config='--psm 12 --oem 3 -c tessedit_char_whitelist=0123456789')\n",
    "print (target)"
   ]
  }
 ],
 "metadata": {
  "kernelspec": {
   "display_name": "Python 3.9.12 64-bit",
   "language": "python",
   "name": "python3"
  },
  "language_info": {
   "codemirror_mode": {
    "name": "ipython",
    "version": 3
   },
   "file_extension": ".py",
   "mimetype": "text/x-python",
   "name": "python",
   "nbconvert_exporter": "python",
   "pygments_lexer": "ipython3",
   "version": "3.10.8"
  },
  "orig_nbformat": 4,
  "vscode": {
   "interpreter": {
    "hash": "aee8b7b246df8f9039afb4144a1f6fd8d2ca17a180786b69acc140d282b71a49"
   }
  }
 },
 "nbformat": 4,
 "nbformat_minor": 2
}
